{
 "cells": [
  {
   "cell_type": "code",
   "execution_count": 1,
   "id": "a99557e4",
   "metadata": {},
   "outputs": [],
   "source": [
    "import pandas as pd"
   ]
  },
  {
   "cell_type": "code",
   "execution_count": 3,
   "id": "468b790a",
   "metadata": {},
   "outputs": [],
   "source": [
    "df = pd.read_csv('laptop_price.csv', encoding='unicode_escape')"
   ]
  },
  {
   "cell_type": "code",
   "execution_count": 4,
   "id": "624472bd",
   "metadata": {},
   "outputs": [
    {
     "data": {
      "text/html": [
       "<div>\n",
       "<style scoped>\n",
       "    .dataframe tbody tr th:only-of-type {\n",
       "        vertical-align: middle;\n",
       "    }\n",
       "\n",
       "    .dataframe tbody tr th {\n",
       "        vertical-align: top;\n",
       "    }\n",
       "\n",
       "    .dataframe thead th {\n",
       "        text-align: right;\n",
       "    }\n",
       "</style>\n",
       "<table border=\"1\" class=\"dataframe\">\n",
       "  <thead>\n",
       "    <tr style=\"text-align: right;\">\n",
       "      <th></th>\n",
       "      <th>laptop_ID</th>\n",
       "      <th>Company</th>\n",
       "      <th>Product</th>\n",
       "      <th>TypeName</th>\n",
       "      <th>Inches</th>\n",
       "      <th>ScreenResolution</th>\n",
       "      <th>Cpu</th>\n",
       "      <th>Ram</th>\n",
       "      <th>Memory</th>\n",
       "      <th>Gpu</th>\n",
       "      <th>OpSys</th>\n",
       "      <th>Weight</th>\n",
       "      <th>Price_euros</th>\n",
       "    </tr>\n",
       "  </thead>\n",
       "  <tbody>\n",
       "    <tr>\n",
       "      <th>0</th>\n",
       "      <td>1</td>\n",
       "      <td>Apple</td>\n",
       "      <td>MacBook Pro</td>\n",
       "      <td>Ultrabook</td>\n",
       "      <td>13.3</td>\n",
       "      <td>IPS Panel Retina Display 2560x1600</td>\n",
       "      <td>Intel Core i5 2.3GHz</td>\n",
       "      <td>8GB</td>\n",
       "      <td>128GB SSD</td>\n",
       "      <td>Intel Iris Plus Graphics 640</td>\n",
       "      <td>macOS</td>\n",
       "      <td>1.37kg</td>\n",
       "      <td>1339.69</td>\n",
       "    </tr>\n",
       "    <tr>\n",
       "      <th>1</th>\n",
       "      <td>2</td>\n",
       "      <td>Apple</td>\n",
       "      <td>Macbook Air</td>\n",
       "      <td>Ultrabook</td>\n",
       "      <td>13.3</td>\n",
       "      <td>1440x900</td>\n",
       "      <td>Intel Core i5 1.8GHz</td>\n",
       "      <td>8GB</td>\n",
       "      <td>128GB Flash Storage</td>\n",
       "      <td>Intel HD Graphics 6000</td>\n",
       "      <td>macOS</td>\n",
       "      <td>1.34kg</td>\n",
       "      <td>898.94</td>\n",
       "    </tr>\n",
       "    <tr>\n",
       "      <th>2</th>\n",
       "      <td>3</td>\n",
       "      <td>HP</td>\n",
       "      <td>250 G6</td>\n",
       "      <td>Notebook</td>\n",
       "      <td>15.6</td>\n",
       "      <td>Full HD 1920x1080</td>\n",
       "      <td>Intel Core i5 7200U 2.5GHz</td>\n",
       "      <td>8GB</td>\n",
       "      <td>256GB SSD</td>\n",
       "      <td>Intel HD Graphics 620</td>\n",
       "      <td>No OS</td>\n",
       "      <td>1.86kg</td>\n",
       "      <td>575.00</td>\n",
       "    </tr>\n",
       "  </tbody>\n",
       "</table>\n",
       "</div>"
      ],
      "text/plain": [
       "   laptop_ID Company      Product   TypeName  Inches  \\\n",
       "0          1   Apple  MacBook Pro  Ultrabook    13.3   \n",
       "1          2   Apple  Macbook Air  Ultrabook    13.3   \n",
       "2          3      HP       250 G6   Notebook    15.6   \n",
       "\n",
       "                     ScreenResolution                         Cpu  Ram  \\\n",
       "0  IPS Panel Retina Display 2560x1600        Intel Core i5 2.3GHz  8GB   \n",
       "1                            1440x900        Intel Core i5 1.8GHz  8GB   \n",
       "2                   Full HD 1920x1080  Intel Core i5 7200U 2.5GHz  8GB   \n",
       "\n",
       "                Memory                           Gpu  OpSys  Weight  \\\n",
       "0            128GB SSD  Intel Iris Plus Graphics 640  macOS  1.37kg   \n",
       "1  128GB Flash Storage        Intel HD Graphics 6000  macOS  1.34kg   \n",
       "2            256GB SSD         Intel HD Graphics 620  No OS  1.86kg   \n",
       "\n",
       "   Price_euros  \n",
       "0      1339.69  \n",
       "1       898.94  \n",
       "2       575.00  "
      ]
     },
     "execution_count": 4,
     "metadata": {},
     "output_type": "execute_result"
    }
   ],
   "source": [
    "df.head(3)"
   ]
  },
  {
   "cell_type": "markdown",
   "id": "248662c6",
   "metadata": {},
   "source": [
    "## Crear una columna condicional con 2 o mas opciones: np.select()\n",
    "\n",
    "* np.select() - Devuelve un array de los elementos, según las condiciones."
   ]
  },
  {
   "cell_type": "code",
   "execution_count": 5,
   "id": "725a525c",
   "metadata": {},
   "outputs": [],
   "source": [
    "# Importamos numpy \n",
    "import numpy as np"
   ]
  },
  {
   "cell_type": "code",
   "execution_count": 10,
   "id": "695d6451",
   "metadata": {},
   "outputs": [],
   "source": [
    "# Crear un array basado en multiples niveles de precio (+2 opciones)\n",
    "\n",
    "# Crear conditions (condiciones) y values (valores)\n",
    "condiciones = [\n",
    "    df['Price_euros'] > 3000, \n",
    "    (df['Price_euros'] > 2000) & (df['Price_euros'] < 3000), \n",
    "    (df['Price_euros'] > 800) & (df['Price_euros'] < 2000),\n",
    "    df['Price_euros'] < 800 \n",
    "]\n",
    "valores = ['Muy Caro', 'Caro', 'Barato', 'Muy Barato']"
   ]
  },
  {
   "cell_type": "code",
   "execution_count": 26,
   "id": "2cdb1b9e",
   "metadata": {},
   "outputs": [],
   "source": [
    "# Crear una nueva columna\n",
    "price_tier = np.select(condiciones, valores)"
   ]
  },
  {
   "cell_type": "code",
   "execution_count": 1,
   "id": "134fb189",
   "metadata": {
    "scrolled": false
   },
   "outputs": [
    {
     "ename": "NameError",
     "evalue": "name 'price_tier' is not defined",
     "output_type": "error",
     "traceback": [
      "\u001b[1;31m---------------------------------------------------------------------------\u001b[0m",
      "\u001b[1;31mNameError\u001b[0m                                 Traceback (most recent call last)",
      "Input \u001b[1;32mIn [1]\u001b[0m, in \u001b[0;36m<cell line: 2>\u001b[1;34m()\u001b[0m\n\u001b[0;32m      1\u001b[0m \u001b[38;5;66;03m# Agregar la nueva columna\u001b[39;00m\n\u001b[1;32m----> 2\u001b[0m df[\u001b[38;5;124m'\u001b[39m\u001b[38;5;124mPrice Tier\u001b[39m\u001b[38;5;124m'\u001b[39m] \u001b[38;5;241m=\u001b[39m \u001b[43mprice_tier\u001b[49m\n",
      "\u001b[1;31mNameError\u001b[0m: name 'price_tier' is not defined"
     ]
    }
   ],
   "source": [
    "# Agregar la nueva columna\n",
    "df['Price Tier'] = price_tier"
   ]
  },
  {
   "cell_type": "code",
   "execution_count": 1,
   "id": "e3099022",
   "metadata": {
    "scrolled": true
   },
   "outputs": [],
   "source": [
    "# Mostrar el dataframe\n",
    "df.head(20)"
   ]
  },
  {
   "cell_type": "code",
   "execution_count": 22,
   "id": "d33c5d2d",
   "metadata": {
    "scrolled": true
   },
   "outputs": [
    {
     "data": {
      "text/plain": [
       "Barato        655\n",
       "Muy Barato    509\n",
       "Caro          118\n",
       "Muy Caro       19\n",
       "0               2\n",
       "Name: Price Tier, dtype: int64"
      ]
     },
     "execution_count": 22,
     "metadata": {},
     "output_type": "execute_result"
    }
   ],
   "source": [
    "# Mostrar lo cantidad de valores que hay en la columna price_tier\n",
    "df['Price Tier'].value_counts() # Cuenta los valores de la columna"
   ]
  },
  {
   "cell_type": "markdown",
   "id": "a998f6ac",
   "metadata": {},
   "source": [
    "## Ejercicio"
   ]
  },
  {
   "cell_type": "code",
   "execution_count": 28,
   "id": "8a1ad667",
   "metadata": {},
   "outputs": [],
   "source": [
    "# Crear un array basado en multiples tamaños de pantallas (screen size + 2 opciones)\n",
    "# Muy grande > 16, Grande >14, Pequeño >12 y Muy pequeño <12\n",
    "\n",
    "# Crear condiciones y valores\n",
    "\n",
    "condiciones = [\n",
    "    df['Inches'] > 16,\n",
    "    (df['Inches'] > 14) & (df['Inches'] < 16),\n",
    "    (df['Inches'] > 12) & (df['Inches'] < 14),\n",
    "    df['Inches'] < 12\n",
    "]\n",
    "\n",
    "valores = ['Muy Grande', 'Grande', 'Pequeño', 'Muy pequeño']"
   ]
  },
  {
   "cell_type": "code",
   "execution_count": 32,
   "id": "8df17e3d",
   "metadata": {},
   "outputs": [],
   "source": [
    "# Crear una nueva columna\n",
    "screen_size = np.select(condiciones, valores)"
   ]
  },
  {
   "cell_type": "code",
   "execution_count": 33,
   "id": "0d393291",
   "metadata": {},
   "outputs": [],
   "source": [
    "# Agregar una nueva columna\n",
    "df['Screen size'] = screen_size "
   ]
  },
  {
   "cell_type": "code",
   "execution_count": 2,
   "id": "755d5eca",
   "metadata": {},
   "outputs": [],
   "source": [
    "# Mostrar el dataframe\n",
    "df.head(5)"
   ]
  },
  {
   "cell_type": "code",
   "execution_count": 36,
   "id": "5a477d81",
   "metadata": {},
   "outputs": [
    {
     "data": {
      "text/plain": [
       "Grande         674\n",
       "Pequeño        222\n",
       "0              203\n",
       "Muy Grande     166\n",
       "Muy pequeño     38\n",
       "Name: Screen size, dtype: int64"
      ]
     },
     "execution_count": 36,
     "metadata": {},
     "output_type": "execute_result"
    }
   ],
   "source": [
    "# Contar los valores en la columna screen size\n",
    "df['Screen size'].value_counts()"
   ]
  }
 ],
 "metadata": {
  "kernelspec": {
   "display_name": "Python 3 (ipykernel)",
   "language": "python",
   "name": "python3"
  },
  "language_info": {
   "codemirror_mode": {
    "name": "ipython",
    "version": 3
   },
   "file_extension": ".py",
   "mimetype": "text/x-python",
   "name": "python",
   "nbconvert_exporter": "python",
   "pygments_lexer": "ipython3",
   "version": "3.9.12"
  }
 },
 "nbformat": 4,
 "nbformat_minor": 5
}
