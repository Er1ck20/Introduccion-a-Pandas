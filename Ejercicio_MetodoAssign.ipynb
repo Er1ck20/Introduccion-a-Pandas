{
 "cells": [
  {
   "cell_type": "code",
   "execution_count": 3,
   "id": "e05cf331",
   "metadata": {},
   "outputs": [],
   "source": [
    "import pandas as pd"
   ]
  },
  {
   "cell_type": "code",
   "execution_count": 16,
   "id": "638797f7",
   "metadata": {},
   "outputs": [],
   "source": [
    "Cost = [100, 200]\n",
    "Selling = [200,400]"
   ]
  },
  {
   "cell_type": "code",
   "execution_count": 17,
   "id": "83f38951",
   "metadata": {},
   "outputs": [],
   "source": [
    "t = {'Cost Price': Cost, 'Selling Price': Selling}"
   ]
  },
  {
   "cell_type": "code",
   "execution_count": 21,
   "id": "39d3e9b1",
   "metadata": {},
   "outputs": [],
   "source": [
    "df = pd.DataFrame(t)"
   ]
  },
  {
   "cell_type": "code",
   "execution_count": 22,
   "id": "b5097494",
   "metadata": {},
   "outputs": [],
   "source": [
    "new_df=df.assign(R=df[\"Selling Price\"]-df[\"Cost Price\"])"
   ]
  },
  {
   "cell_type": "code",
   "execution_count": 23,
   "id": "013ebc9a",
   "metadata": {
    "scrolled": true
   },
   "outputs": [
    {
     "data": {
      "text/html": [
       "<div>\n",
       "<style scoped>\n",
       "    .dataframe tbody tr th:only-of-type {\n",
       "        vertical-align: middle;\n",
       "    }\n",
       "\n",
       "    .dataframe tbody tr th {\n",
       "        vertical-align: top;\n",
       "    }\n",
       "\n",
       "    .dataframe thead th {\n",
       "        text-align: right;\n",
       "    }\n",
       "</style>\n",
       "<table border=\"1\" class=\"dataframe\">\n",
       "  <thead>\n",
       "    <tr style=\"text-align: right;\">\n",
       "      <th></th>\n",
       "      <th>Cost Price</th>\n",
       "      <th>Selling Price</th>\n",
       "      <th>R</th>\n",
       "    </tr>\n",
       "  </thead>\n",
       "  <tbody>\n",
       "    <tr>\n",
       "      <th>0</th>\n",
       "      <td>100</td>\n",
       "      <td>200</td>\n",
       "      <td>100</td>\n",
       "    </tr>\n",
       "    <tr>\n",
       "      <th>1</th>\n",
       "      <td>200</td>\n",
       "      <td>400</td>\n",
       "      <td>200</td>\n",
       "    </tr>\n",
       "  </tbody>\n",
       "</table>\n",
       "</div>"
      ],
      "text/plain": [
       "   Cost Price  Selling Price    R\n",
       "0         100            200  100\n",
       "1         200            400  200"
      ]
     },
     "execution_count": 23,
     "metadata": {},
     "output_type": "execute_result"
    }
   ],
   "source": [
    "new_df"
   ]
  },
  {
   "cell_type": "markdown",
   "id": "f3265ccc",
   "metadata": {},
   "source": [
    "### Ejercicio #2 - Usando funciones lambda"
   ]
  },
  {
   "cell_type": "code",
   "execution_count": 24,
   "id": "73e51b38",
   "metadata": {},
   "outputs": [],
   "source": [
    "Menu = ['Yaroa', 'Chimi', 'Pechurina']\n",
    "Precio = [300, 150, 175]"
   ]
  },
  {
   "cell_type": "code",
   "execution_count": 25,
   "id": "92fcfbd4",
   "metadata": {},
   "outputs": [],
   "source": [
    "dict_m = {'Menu': Menu,\n",
    "         'Precio': Precio}"
   ]
  },
  {
   "cell_type": "code",
   "execution_count": 26,
   "id": "16235747",
   "metadata": {},
   "outputs": [],
   "source": [
    "df_menu = pd.DataFrame(dict_m)"
   ]
  },
  {
   "cell_type": "code",
   "execution_count": 39,
   "id": "b880e8a7",
   "metadata": {},
   "outputs": [],
   "source": [
    "n_df = df_menu.assign(Itbis=lambda x: x.Precio * 0.05,\n",
    "                          Total=lambda x: x.Precio + x.Itbis)"
   ]
  },
  {
   "cell_type": "code",
   "execution_count": 40,
   "id": "aca0bec5",
   "metadata": {
    "scrolled": true
   },
   "outputs": [
    {
     "data": {
      "text/html": [
       "<div>\n",
       "<style scoped>\n",
       "    .dataframe tbody tr th:only-of-type {\n",
       "        vertical-align: middle;\n",
       "    }\n",
       "\n",
       "    .dataframe tbody tr th {\n",
       "        vertical-align: top;\n",
       "    }\n",
       "\n",
       "    .dataframe thead th {\n",
       "        text-align: right;\n",
       "    }\n",
       "</style>\n",
       "<table border=\"1\" class=\"dataframe\">\n",
       "  <thead>\n",
       "    <tr style=\"text-align: right;\">\n",
       "      <th></th>\n",
       "      <th>Menu</th>\n",
       "      <th>Precio</th>\n",
       "      <th>Itbis</th>\n",
       "      <th>Total</th>\n",
       "    </tr>\n",
       "  </thead>\n",
       "  <tbody>\n",
       "    <tr>\n",
       "      <th>0</th>\n",
       "      <td>Yaroa</td>\n",
       "      <td>300</td>\n",
       "      <td>15.00</td>\n",
       "      <td>315.00</td>\n",
       "    </tr>\n",
       "    <tr>\n",
       "      <th>1</th>\n",
       "      <td>Chimi</td>\n",
       "      <td>150</td>\n",
       "      <td>7.50</td>\n",
       "      <td>157.50</td>\n",
       "    </tr>\n",
       "    <tr>\n",
       "      <th>2</th>\n",
       "      <td>Pechurina</td>\n",
       "      <td>175</td>\n",
       "      <td>8.75</td>\n",
       "      <td>183.75</td>\n",
       "    </tr>\n",
       "  </tbody>\n",
       "</table>\n",
       "</div>"
      ],
      "text/plain": [
       "        Menu  Precio  Itbis   Total\n",
       "0      Yaroa     300  15.00  315.00\n",
       "1      Chimi     150   7.50  157.50\n",
       "2  Pechurina     175   8.75  183.75"
      ]
     },
     "execution_count": 40,
     "metadata": {},
     "output_type": "execute_result"
    }
   ],
   "source": [
    "n_df"
   ]
  }
 ],
 "metadata": {
  "kernelspec": {
   "display_name": "Python 3 (ipykernel)",
   "language": "python",
   "name": "python3"
  },
  "language_info": {
   "codemirror_mode": {
    "name": "ipython",
    "version": 3
   },
   "file_extension": ".py",
   "mimetype": "text/x-python",
   "name": "python",
   "nbconvert_exporter": "python",
   "pygments_lexer": "ipython3",
   "version": "3.9.12"
  }
 },
 "nbformat": 4,
 "nbformat_minor": 5
}
