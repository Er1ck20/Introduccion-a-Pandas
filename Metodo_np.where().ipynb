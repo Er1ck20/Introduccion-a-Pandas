{
 "cells": [
  {
   "cell_type": "code",
   "execution_count": 1,
   "id": "a2dbb9eb",
   "metadata": {},
   "outputs": [],
   "source": [
    "import pandas as pd"
   ]
  },
  {
   "cell_type": "code",
   "execution_count": 2,
   "id": "18af6237",
   "metadata": {},
   "outputs": [],
   "source": [
    "df = pd.read_csv('laptop_price.csv', encoding='unicode_escape')"
   ]
  },
  {
   "cell_type": "code",
   "execution_count": 41,
   "id": "c0324a3c",
   "metadata": {},
   "outputs": [],
   "source": [
    "df.head(20)"
   ]
  },
  {
   "cell_type": "markdown",
   "id": "a80dfa5c",
   "metadata": {},
   "source": [
    "## Crear una columna basado en una condicion: np.where()"
   ]
  },
  {
   "cell_type": "code",
   "execution_count": 9,
   "id": "fdf6312f",
   "metadata": {},
   "outputs": [],
   "source": [
    "# Importamos numpy\n",
    "import numpy as np"
   ]
  },
  {
   "cell_type": "code",
   "execution_count": 24,
   "id": "a7b7f545",
   "metadata": {},
   "outputs": [],
   "source": [
    "# crear un array/lista basado en el nivel de precio (price_tier)\n",
    "# np.where() - Devuelve los elementos elegidos de x o y dependiendo de la condición .\n",
    "# Hay que agregar los 3 argumentos. \n",
    "# 1ro - La condicion.\n",
    "# 2do - El valor que queremos asignar si la condicion es True(Caro)\n",
    "# 3ro - El valor si es false(Barato)\n",
    "price_tier = np.where(df['Price_euros'] > 2000, 'Caro', 'Barato' )"
   ]
  },
  {
   "cell_type": "code",
   "execution_count": 17,
   "id": "0d694eda",
   "metadata": {},
   "outputs": [],
   "source": [
    "# Agregar una nueva columna\n",
    "df['Price Tier'] = price_tier"
   ]
  },
  {
   "cell_type": "code",
   "execution_count": 42,
   "id": "fec8dfba",
   "metadata": {},
   "outputs": [],
   "source": [
    "# Mostras las 5 primeras filas\n",
    "df.head(5)"
   ]
  },
  {
   "cell_type": "code",
   "execution_count": 1,
   "id": "b99d4c9c",
   "metadata": {},
   "outputs": [],
   "source": [
    "# Mostrar las 5 primeras columnas\n",
    "df[['Company', 'Product', 'TypeName', 'Inches', 'ScreenResolution']]"
   ]
  },
  {
   "cell_type": "code",
   "execution_count": 20,
   "id": "86038015",
   "metadata": {
    "scrolled": true
   },
   "outputs": [
    {
     "data": {
      "text/plain": [
       "Barato    1166\n",
       "Caro       137\n",
       "Name: Price Tier, dtype: int64"
      ]
     },
     "execution_count": 20,
     "metadata": {},
     "output_type": "execute_result"
    }
   ],
   "source": [
    "# Contar los valores en la columna price_tier\n",
    "df['Price Tier'].value_counts()"
   ]
  },
  {
   "cell_type": "markdown",
   "id": "548da619",
   "metadata": {},
   "source": [
    "## Ejercicio "
   ]
  },
  {
   "cell_type": "code",
   "execution_count": 2,
   "id": "6cf62ba1",
   "metadata": {},
   "outputs": [],
   "source": [
    "df['Inches']"
   ]
  },
  {
   "cell_type": "code",
   "execution_count": 34,
   "id": "c5ab2fde",
   "metadata": {},
   "outputs": [],
   "source": [
    "# Crear un array basado en el tamaño de la pantalla (screen size)\n",
    "screen_size = np.where(df['Inches'] > 15.4, 'Grande', 'Estandar')"
   ]
  },
  {
   "cell_type": "code",
   "execution_count": 35,
   "id": "ef836952",
   "metadata": {},
   "outputs": [
    {
     "data": {
      "text/plain": [
       "array(['Estandar', 'Estandar', 'Grande', ..., 'Estandar', 'Grande',\n",
       "       'Grande'], dtype='<U8')"
      ]
     },
     "execution_count": 35,
     "metadata": {},
     "output_type": "execute_result"
    }
   ],
   "source": [
    "screen_size"
   ]
  },
  {
   "cell_type": "code",
   "execution_count": 36,
   "id": "b148b1fb",
   "metadata": {},
   "outputs": [],
   "source": [
    "# Anadir una nueva columna\n",
    "df['Screen Size'] = screen_size"
   ]
  },
  {
   "cell_type": "code",
   "execution_count": 3,
   "id": "3dffffca",
   "metadata": {},
   "outputs": [],
   "source": [
    "# Mostrar 5 primeras filas\n",
    "df.head(5)"
   ]
  },
  {
   "cell_type": "code",
   "execution_count": 39,
   "id": "31fc21fe",
   "metadata": {},
   "outputs": [
    {
     "data": {
      "text/plain": [
       "Grande      831\n",
       "Estandar    472\n",
       "Name: Screen Size, dtype: int64"
      ]
     },
     "execution_count": 39,
     "metadata": {},
     "output_type": "execute_result"
    }
   ],
   "source": [
    "# Contar los valores en la columna screen size\n",
    "df['Screen Size'].value_counts()"
   ]
  }
 ],
 "metadata": {
  "kernelspec": {
   "display_name": "Python 3 (ipykernel)",
   "language": "python",
   "name": "python3"
  },
  "language_info": {
   "codemirror_mode": {
    "name": "ipython",
    "version": 3
   },
   "file_extension": ".py",
   "mimetype": "text/x-python",
   "name": "python",
   "nbconvert_exporter": "python",
   "pygments_lexer": "ipython3",
   "version": "3.9.12"
  }
 },
 "nbformat": 4,
 "nbformat_minor": 5
}
